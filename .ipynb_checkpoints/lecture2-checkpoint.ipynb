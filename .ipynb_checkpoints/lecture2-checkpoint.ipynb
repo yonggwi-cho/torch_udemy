{
 "cells": [
  {
   "cell_type": "code",
   "execution_count": 1,
   "metadata": {},
   "outputs": [],
   "source": [
    "import numpy as np\n",
    "import matplotlib.pyplot as plt\n",
    "from sklearn import datasets"
   ]
  },
  {
   "cell_type": "code",
   "execution_count": 2,
   "metadata": {},
   "outputs": [
    {
     "data": {
      "image/png": "[encoded data removed]",
      "text/plain": [
       "<Figure size 720x288 with 10 Axes>"
      ]
     },
     "metadata": {
      "needs_background": "light"
     },
     "output_type": "display_data"
    }
   ],
   "source": [
    "digits_data = datasets.load_digits()\n",
    "\n",
    "n_img = 10 \n",
    "plt.figure(figsize=(10,4))\n",
    "for i in range(n_img):\n",
    "    ax = plt.subplot(2,5,i+1)\n",
    "    plt.imshow(digits_data.data[i].reshape(8,8),cmap=\"Greys_r\")\n",
    "    ax.get_xaxis().set_visible(False)\n",
    "    ax.get_yaxis().set_visible(False)\n",
    "plt.show()"
   ]
  },
  {
   "cell_type": "code",
   "execution_count": 3,
   "metadata": {},
   "outputs": [],
   "source": [
    "# train data, validation data \n",
    "import torch\n",
    "from sklearn.model_selection import train_test_split\n",
    "\n",
    "digit_images = digits_data.data\n",
    "labels = digits_data.target\n",
    "x_train,x_test,t_train,t_test = train_test_split(digit_images,labels)\n",
    "\n",
    "# to tensor\n",
    "x_train = torch.tensor(x_train,dtype=torch.float32)\n",
    "x_test = torch.tensor(x_test,dtype=torch.float32)\n",
    "t_train = torch.tensor(t_train,dtype=torch.int64)\n",
    "t_test = torch.tensor(t_test,dtype=torch.int64)"
   ]
  },
  {
   "cell_type": "code",
   "execution_count": 4,
   "metadata": {},
   "outputs": [
    {
     "name": "stdout",
     "output_type": "stream",
     "text": [
      "Sequential(\n",
      "  (0): Linear(in_features=64, out_features=32, bias=True)\n",
      "  (1): ReLU()\n",
      "  (2): Linear(in_features=32, out_features=16, bias=True)\n",
      "  (3): ReLU()\n",
      "  (4): Linear(in_features=16, out_features=10, bias=True)\n",
      ")\n"
     ]
    }
   ],
   "source": [
    "from torch import nn\n",
    "\n",
    "net = nn.Sequential(nn.Linear(64,32),\n",
    "                    nn.ReLU(),\n",
    "                    nn.Linear(32,16),\n",
    "                    nn.ReLU(),\n",
    "                    nn.Linear(16,10))\n",
    "print(net)"
   ]
  },
  {
   "cell_type": "code",
   "execution_count": 5,
   "metadata": {},
   "outputs": [
    {
     "name": "stdout",
     "output_type": "stream",
     "text": [
      "Epoch 0 loss_train 2.3619604110717773 loss_test 2.397716522216797\n",
      "Epoch 10 loss_train 2.057173490524292 loss_test 2.078465461730957\n",
      "Epoch 20 loss_train 1.85460364818573 loss_test 1.891658902168274\n",
      "Epoch 30 loss_train 1.6760685443878174 loss_test 1.7197074890136719\n",
      "Epoch 40 loss_train 1.504778265953064 loss_test 1.5480929613113403\n",
      "Epoch 50 loss_train 1.3450117111206055 loss_test 1.3863335847854614\n",
      "Epoch 60 loss_train 1.196982741355896 loss_test 1.2376855611801147\n",
      "Epoch 70 loss_train 1.064454436302185 loss_test 1.1032637357711792\n",
      "Epoch 80 loss_train 0.9481225609779358 loss_test 0.9864326119422913\n",
      "Epoch 90 loss_train 0.8477652668952942 loss_test 0.8849072456359863\n",
      "Epoch 100 loss_train 0.7624660134315491 loss_test 0.7981300950050354\n",
      "Epoch 110 loss_train 0.689497172832489 loss_test 0.7241984009742737\n",
      "Epoch 120 loss_train 0.6271744966506958 loss_test 0.6611750721931458\n",
      "Epoch 130 loss_train 0.5738102793693542 loss_test 0.6072584986686707\n",
      "Epoch 140 loss_train 0.5279003381729126 loss_test 0.561241090297699\n",
      "Epoch 150 loss_train 0.488381564617157 loss_test 0.5217583775520325\n",
      "Epoch 160 loss_train 0.45417967438697815 loss_test 0.48772287368774414\n",
      "Epoch 170 loss_train 0.42439988255500793 loss_test 0.4582488536834717\n",
      "Epoch 180 loss_train 0.39828991889953613 loss_test 0.4324244558811188\n",
      "Epoch 190 loss_train 0.37535199522972107 loss_test 0.4097476601600647\n",
      "Epoch 200 loss_train 0.35503530502319336 loss_test 0.3897511661052704\n",
      "Epoch 210 loss_train 0.3369530439376831 loss_test 0.3719525933265686\n",
      "Epoch 220 loss_train 0.3207535445690155 loss_test 0.3560691177845001\n",
      "Epoch 230 loss_train 0.3061293363571167 loss_test 0.34184515476226807\n",
      "Epoch 240 loss_train 0.2928852438926697 loss_test 0.32906651496887207\n",
      "Epoch 250 loss_train 0.2808432877063751 loss_test 0.31729504466056824\n",
      "Epoch 260 loss_train 0.2698313295841217 loss_test 0.3065797984600067\n",
      "Epoch 270 loss_train 0.2597711980342865 loss_test 0.29680439829826355\n",
      "Epoch 280 loss_train 0.25050273537635803 loss_test 0.2878383994102478\n",
      "Epoch 290 loss_train 0.24194972217082977 loss_test 0.2795966863632202\n",
      "Epoch 300 loss_train 0.23401950299739838 loss_test 0.27201348543167114\n",
      "Epoch 310 loss_train 0.2266707569360733 loss_test 0.26494452357292175\n",
      "Epoch 320 loss_train 0.21982935070991516 loss_test 0.2583947479724884\n",
      "Epoch 330 loss_train 0.21342457830905914 loss_test 0.2522978186607361\n",
      "Epoch 340 loss_train 0.20741474628448486 loss_test 0.24664084613323212\n",
      "Epoch 350 loss_train 0.20174914598464966 loss_test 0.24136808514595032\n",
      "Epoch 360 loss_train 0.19638687372207642 loss_test 0.23647665977478027\n",
      "Epoch 370 loss_train 0.1913405954837799 loss_test 0.23187702894210815\n",
      "Epoch 380 loss_train 0.18655642867088318 loss_test 0.2275410294532776\n",
      "Epoch 390 loss_train 0.18199968338012695 loss_test 0.22354713082313538\n",
      "Epoch 400 loss_train 0.17767566442489624 loss_test 0.2196311056613922\n",
      "Epoch 410 loss_train 0.17357654869556427 loss_test 0.2158880978822708\n",
      "Epoch 420 loss_train 0.16970369219779968 loss_test 0.21234160661697388\n",
      "Epoch 430 loss_train 0.16603779792785645 loss_test 0.20898449420928955\n",
      "Epoch 440 loss_train 0.16255389153957367 loss_test 0.20578038692474365\n",
      "Epoch 450 loss_train 0.1592351347208023 loss_test 0.20272551476955414\n",
      "Epoch 460 loss_train 0.15606677532196045 loss_test 0.19982662796974182\n",
      "Epoch 470 loss_train 0.15303805470466614 loss_test 0.19704563915729523\n",
      "Epoch 480 loss_train 0.15013869106769562 loss_test 0.19440457224845886\n",
      "Epoch 490 loss_train 0.14736178517341614 loss_test 0.19187302887439728\n",
      "Epoch 500 loss_train 0.1446976214647293 loss_test 0.18948251008987427\n",
      "Epoch 510 loss_train 0.14214712381362915 loss_test 0.18712788820266724\n",
      "Epoch 520 loss_train 0.13968931138515472 loss_test 0.1848699152469635\n",
      "Epoch 530 loss_train 0.13732576370239258 loss_test 0.18272580206394196\n",
      "Epoch 540 loss_train 0.13504564762115479 loss_test 0.180670827627182\n",
      "Epoch 550 loss_train 0.13284480571746826 loss_test 0.17867837846279144\n",
      "Epoch 560 loss_train 0.13071748614311218 loss_test 0.1767815351486206\n",
      "Epoch 570 loss_train 0.1286618560552597 loss_test 0.17497903108596802\n",
      "Epoch 580 loss_train 0.12667277455329895 loss_test 0.17323490977287292\n",
      "Epoch 590 loss_train 0.12474628537893295 loss_test 0.1715671867132187\n",
      "Epoch 600 loss_train 0.12288279086351395 loss_test 0.16998982429504395\n",
      "Epoch 610 loss_train 0.12107248604297638 loss_test 0.1684798300266266\n",
      "Epoch 620 loss_train 0.11931397765874863 loss_test 0.16702371835708618\n",
      "Epoch 630 loss_train 0.11760484427213669 loss_test 0.16561052203178406\n",
      "Epoch 640 loss_train 0.11594241857528687 loss_test 0.16426502168178558\n",
      "Epoch 650 loss_train 0.11432567983865738 loss_test 0.16296055912971497\n",
      "Epoch 660 loss_train 0.11275426298379898 loss_test 0.16169604659080505\n",
      "Epoch 670 loss_train 0.11122392863035202 loss_test 0.16046178340911865\n",
      "Epoch 680 loss_train 0.10973483324050903 loss_test 0.15928047895431519\n",
      "Epoch 690 loss_train 0.10828263312578201 loss_test 0.15810294449329376\n",
      "Epoch 700 loss_train 0.1068657636642456 loss_test 0.1569099724292755\n",
      "Epoch 710 loss_train 0.10548560321331024 loss_test 0.15577687323093414\n",
      "Epoch 720 loss_train 0.1041455939412117 loss_test 0.1547175794839859\n",
      "Epoch 730 loss_train 0.1028396263718605 loss_test 0.15368422865867615\n",
      "Epoch 740 loss_train 0.1015678271651268 loss_test 0.1526796668767929\n",
      "Epoch 750 loss_train 0.10032869130373001 loss_test 0.15174086391925812\n",
      "Epoch 760 loss_train 0.09911569952964783 loss_test 0.15082210302352905\n",
      "Epoch 770 loss_train 0.09793029725551605 loss_test 0.14993321895599365\n",
      "Epoch 780 loss_train 0.09677163511514664 loss_test 0.1490190029144287\n",
      "Epoch 790 loss_train 0.0956362709403038 loss_test 0.14815916121006012\n",
      "Epoch 800 loss_train 0.09452349692583084 loss_test 0.14730572700500488\n",
      "Epoch 810 loss_train 0.09343713521957397 loss_test 0.146476149559021\n",
      "Epoch 820 loss_train 0.09237412363290787 loss_test 0.1456654965877533\n",
      "Epoch 830 loss_train 0.09133496880531311 loss_test 0.1449127197265625\n",
      "Epoch 840 loss_train 0.09031879156827927 loss_test 0.14414823055267334\n",
      "Epoch 850 loss_train 0.08932695537805557 loss_test 0.14341485500335693\n",
      "Epoch 860 loss_train 0.08835194259881973 loss_test 0.1426834762096405\n",
      "Epoch 870 loss_train 0.0873960554599762 loss_test 0.14198251068592072\n",
      "Epoch 880 loss_train 0.08645427972078323 loss_test 0.14128296077251434\n",
      "Epoch 890 loss_train 0.08552846312522888 loss_test 0.14060454070568085\n",
      "Epoch 900 loss_train 0.08462043851613998 loss_test 0.1399535983800888\n",
      "Epoch 910 loss_train 0.08372773975133896 loss_test 0.13935136795043945\n",
      "Epoch 920 loss_train 0.08284963667392731 loss_test 0.13873255252838135\n",
      "Epoch 930 loss_train 0.08198694884777069 loss_test 0.1381322294473648\n",
      "Epoch 940 loss_train 0.08114124834537506 loss_test 0.13753822445869446\n",
      "Epoch 950 loss_train 0.08030904829502106 loss_test 0.13697177171707153\n",
      "Epoch 960 loss_train 0.07948973029851913 loss_test 0.13644038140773773\n",
      "Epoch 970 loss_train 0.07868441194295883 loss_test 0.13590560853481293\n",
      "Epoch 980 loss_train 0.07789336144924164 loss_test 0.13538630306720734\n",
      "Epoch 990 loss_train 0.07711398601531982 loss_test 0.13489967584609985\n"
     ]
    },
    {
     "data": {
      "image/png": "[encoded data removed]",
      "text/plain": [
       "<Figure size 432x288 with 1 Axes>"
      ]
     },
     "metadata": {
      "needs_background": "light"
     },
     "output_type": "display_data"
    }
   ],
   "source": [
    "# training\n",
    "from torch import optim\n",
    "\n",
    "loss = nn.CrossEntropyLoss()\n",
    "optimizer = optim.SGD(net.parameters(),lr=0.01)\n",
    "\n",
    "history_loss_train = list()\n",
    "history_loss_test = list()\n",
    "\n",
    "n_epoch = 1000\n",
    "for i in range(n_epoch):\n",
    "        optimizer.zero_grad()\n",
    "        \n",
    "        y_train = net(x_train)\n",
    "        y_test =  net(x_test)\n",
    "        \n",
    "        loss_train = loss(y_train,t_train)\n",
    "        loss_test = loss(y_test,t_test)\n",
    "        history_loss_train.append(loss_train.item())\n",
    "        history_loss_test.append(loss_test.item())\n",
    "        \n",
    "        loss_train.backward()\n",
    "        optimizer.step()\n",
    "        \n",
    "        if i % 10 == 0 :\n",
    "            print(\"Epoch\",i,\"loss_train\",loss_train.item(),\"loss_test\",loss_test.item())\n",
    "\n",
    "plt.plot(range(len(history_loss_train)),history_loss_train,\"r-\")\n",
    "plt.plot(range(len(history_loss_test)),history_loss_test,\"b--\")\n",
    "plt.show()"
   ]
  },
  {
   "cell_type": "code",
   "execution_count": 7,
   "metadata": {},
   "outputs": [
    {
     "name": "stdout",
     "output_type": "stream",
     "text": [
      "正解率: 96.0%\n"
     ]
    }
   ],
   "source": [
    "# 正解率\n",
    "y_test = net(x_test)\n",
    "count = (y_test.argmax(1) == t_test).sum().item()\n",
    "print(\"正解率:\", str(count/len(y_test)*100)+\"%\")"
   ]
  },
  {
   "cell_type": "code",
   "execution_count": 12,
   "metadata": {},
   "outputs": [
    {
     "data": {
      "image/png": "[encoded data removed]",
      "text/plain": [
       "<Figure size 432x288 with 1 Axes>"
      ]
     },
     "metadata": {
      "needs_background": "light"
     },
     "output_type": "display_data"
    },
    {
     "name": "stdout",
     "output_type": "stream",
     "text": [
      "正解: 8 予測結果: 8\n"
     ]
    }
   ],
   "source": [
    "img_id = 500\n",
    "x_pred = digit_images[img_id]\n",
    "image = x_pred.reshape(8,8)\n",
    "plt.imshow(image,cmap=\"Greys_r\")\n",
    "plt.show()\n",
    "\n",
    "x_pred = torch.tensor(x_pred,dtype=torch.float32)\n",
    "y_pred = net(x_pred)\n",
    "print(\"正解:\",labels[img_id],\"予測結果:\",y_pred.argmax().item())"
   ]
  },
  {
   "cell_type": "code",
   "execution_count": null,
   "metadata": {},
   "outputs": [],
   "source": []
  }
 ],
 "metadata": {
  "kernelspec": {
   "display_name": "Python 3",
   "language": "python",
   "name": "python3"
  },
  "language_info": {
   "codemirror_mode": {
    "name": "ipython",
    "version": 3
   },
   "file_extension": ".py",
   "mimetype": "text/x-python",
   "name": "python",
   "nbconvert_exporter": "python",
   "pygments_lexer": "ipython3",
   "version": "3.7.3"
  }
 },
 "nbformat": 4,
 "nbformat_minor": 4
}
