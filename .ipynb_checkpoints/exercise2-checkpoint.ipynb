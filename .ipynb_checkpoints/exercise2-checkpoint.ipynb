{
 "cells": [
  {
   "cell_type": "code",
   "execution_count": 3,
   "metadata": {},
   "outputs": [
    {
     "data": {
      "image/png": "[encoded data removed]",
      "text/plain": [
       "<Figure size 720x288 with 10 Axes>"
      ]
     },
     "metadata": {
      "needs_background": "light"
     },
     "output_type": "display_data"
    },
    {
     "name": "stdout",
     "output_type": "stream",
     "text": [
      "Sequential(\n",
      "  (0): Linear(in_features=64, out_features=128, bias=True)\n",
      "  (1): ReLU()\n",
      "  (2): Linear(in_features=128, out_features=64, bias=True)\n",
      "  (3): ReLU()\n",
      "  (4): Linear(in_features=64, out_features=10, bias=True)\n",
      ")\n",
      "Epoch 0 loss_train 2.4206299781799316 loss_test 2.49483323097229\n",
      "Epoch 10 loss_train 0.21194544434547424 loss_test 0.22731781005859375\n",
      "Epoch 20 loss_train 0.05405622720718384 loss_test 0.11940981447696686\n",
      "Epoch 30 loss_train 0.01428616140037775 loss_test 0.1112370491027832\n",
      "Epoch 40 loss_train 0.004090096335858107 loss_test 0.10729353874921799\n",
      "Epoch 50 loss_train 0.0016296864487230778 loss_test 0.13064248859882355\n",
      "Epoch 60 loss_train 0.0009385114535689354 loss_test 0.12296675890684128\n",
      "Epoch 70 loss_train 0.0006580338813364506 loss_test 0.11684294790029526\n",
      "Epoch 80 loss_train 0.0005101233255118132 loss_test 0.12002918124198914\n",
      "Epoch 90 loss_train 0.000423045945353806 loss_test 0.12202253192663193\n"
     ]
    },
    {
     "data": {
      "image/png": "[encoded data removed]",
      "text/plain": [
       "<Figure size 432x288 with 1 Axes>"
      ]
     },
     "metadata": {
      "needs_background": "light"
     },
     "output_type": "display_data"
    },
    {
     "name": "stdout",
     "output_type": "stream",
     "text": [
      "正解率: 96.88888888888889%\n"
     ]
    },
    {
     "data": {
      "image/png": "[encoded data removed]",
      "text/plain": [
       "<Figure size 432x288 with 1 Axes>"
      ]
     },
     "metadata": {
      "needs_background": "light"
     },
     "output_type": "display_data"
    },
    {
     "name": "stdout",
     "output_type": "stream",
     "text": [
      "正解: 8 予測結果: 8\n"
     ]
    }
   ],
   "source": [
    "import numpy as np\n",
    "import matplotlib.pyplot as plt\n",
    "from sklearn import datasets\n",
    "\n",
    "digits_data = datasets.load_digits()\n",
    "\n",
    "n_img = 10 \n",
    "plt.figure(figsize=(10,4))\n",
    "for i in range(n_img):\n",
    "    ax = plt.subplot(2,5,i+1)\n",
    "    plt.imshow(digits_data.data[i].reshape(8,8),cmap=\"Greys_r\")\n",
    "    ax.get_xaxis().set_visible(False)\n",
    "    ax.get_yaxis().set_visible(False)\n",
    "plt.show()\n",
    "\n",
    "# train data, validation data \n",
    "import torch\n",
    "from sklearn.model_selection import train_test_split\n",
    "\n",
    "digit_images = digits_data.data\n",
    "labels = digits_data.target\n",
    "x_train,x_test,t_train,t_test = train_test_split(digit_images,labels)\n",
    "\n",
    "# to tensor\n",
    "x_train = torch.tensor(x_train,dtype=torch.float32)\n",
    "x_test = torch.tensor(x_test,dtype=torch.float32)\n",
    "t_train = torch.tensor(t_train,dtype=torch.int64)\n",
    "t_test = torch.tensor(t_test,dtype=torch.int64)\n",
    "\n",
    "from torch import nn\n",
    "\n",
    "net = nn.Sequential(nn.Linear(64,128),\n",
    "                    nn.ReLU(),\n",
    "                    nn.Linear(128,64),\n",
    "                    nn.ReLU(),\n",
    "                    nn.Linear(64,10))\n",
    "print(net)\n",
    "\n",
    "# training\n",
    "from torch import optim\n",
    "\n",
    "loss = nn.CrossEntropyLoss()\n",
    "optimizer = optim.Adam(net.parameters(),lr=0.01)\n",
    "\n",
    "history_loss_train = list()\n",
    "history_loss_test = list()\n",
    "\n",
    "n_epoch = 100\n",
    "for i in range(n_epoch):\n",
    "        optimizer.zero_grad()\n",
    "        \n",
    "        y_train = net(x_train)\n",
    "        y_test =  net(x_test)\n",
    "        \n",
    "        loss_train = loss(y_train,t_train)\n",
    "        loss_test = loss(y_test,t_test)\n",
    "        history_loss_train.append(loss_train.item())\n",
    "        history_loss_test.append(loss_test.item())\n",
    "        \n",
    "        loss_train.backward()\n",
    "        optimizer.step()\n",
    "        \n",
    "        if i % 10 == 0 :\n",
    "            print(\"Epoch\",i,\"loss_train\",loss_train.item(),\"loss_test\",loss_test.item())\n",
    "\n",
    "plt.plot(range(len(history_loss_train)),history_loss_train,\"r-\")\n",
    "plt.plot(range(len(history_loss_test)),history_loss_test,\"b--\")\n",
    "plt.show()\n",
    "\n",
    "# 正解率\n",
    "y_test = net(x_test)\n",
    "count = (y_test.argmax(1) == t_test).sum().item()\n",
    "print(\"正解率:\", str(count/len(y_test)*100)+\"%\")\n",
    "\n",
    "img_id = 500\n",
    "x_pred = digit_images[img_id]\n",
    "image = x_pred.reshape(8,8)\n",
    "plt.imshow(image,cmap=\"Greys_r\")\n",
    "plt.show()\n",
    "\n",
    "x_pred = torch.tensor(x_pred,dtype=torch.float32)\n",
    "y_pred = net(x_pred)\n",
    "print(\"正解:\",labels[img_id],\"予測結果:\",y_pred.argmax().item())"
   ]
  },
  {
   "cell_type": "code",
   "execution_count": null,
   "metadata": {},
   "outputs": [],
   "source": []
  }
 ],
 "metadata": {
  "kernelspec": {
   "display_name": "Python 3",
   "language": "python",
   "name": "python3"
  },
  "language_info": {
   "codemirror_mode": {
    "name": "ipython",
    "version": 3
   },
   "file_extension": ".py",
   "mimetype": "text/x-python",
   "name": "python",
   "nbconvert_exporter": "python",
   "pygments_lexer": "ipython3",
   "version": "3.7.3"
  }
 },
 "nbformat": 4,
 "nbformat_minor": 4
}
